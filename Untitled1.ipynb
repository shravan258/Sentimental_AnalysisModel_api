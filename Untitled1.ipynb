{
 "cells": [
  {
   "cell_type": "code",
   "execution_count": 1,
   "id": "8c6a37d5",
   "metadata": {},
   "outputs": [],
   "source": [
    "import matplotlib as mpl\n",
    "import matplotlib.pyplot as plt\n",
    "import os\n",
    "import re\n",
    "import shutil\n",
    "import string\n",
    "import tensorflow as tf\n",
    "from tensorflow.keras import regularizers\n",
    "\n",
    "from tensorflow.keras import layers\n",
    "from tensorflow.keras import losses\n",
    "\n",
    "from collections import Counter\n",
    "\n",
    "\n",
    "import pandas as pd\n",
    "import numpy as np\n",
    "\n",
    "import sklearn\n",
    "\n",
    "\n",
    "from sklearn.metrics import classification_report\n",
    "\n",
    "from tensorflow.keras import preprocessing\n",
    "\n",
    "\n",
    "from tensorflow.keras.preprocessing.text import Tokenizer\n",
    "from tensorflow.keras.preprocessing.sequence import pad_sequences\n",
    "from tensorflow.keras.models import Sequential\n",
    "from tensorflow.keras.layers import Dense, Embedding, LSTM, SpatialDropout1D\n",
    "from sklearn.model_selection import train_test_split\n",
    "from keras.utils.np_utils import to_categorical\n",
    "from tensorflow.keras.callbacks import EarlyStopping\n",
    "from tensorflow.keras.layers import Dropout\n",
    "\n",
    "import seaborn as sns\n",
    "\n",
    "import pydot"
   ]
  },
  {
   "cell_type": "code",
   "execution_count": 47,
   "id": "ed11dba6",
   "metadata": {},
   "outputs": [],
   "source": [
    "review_data= pd.read_csv(\"C:\\\\AmazonReviewsCellPhones\\\\CellPhonesRating.csv\")"
   ]
  },
  {
   "cell_type": "code",
   "execution_count": 48,
   "id": "92b65024",
   "metadata": {},
   "outputs": [
    {
     "name": "stdout",
     "output_type": "stream",
     "text": [
      "Looks even better in person. Be careful to not drop your phone so often because the rhinestones will fall off (duh). More of a decorative case than it is protective, but I will say that it fits perfectly and securely on my phone. Overall, very pleased with this purchase.\n"
     ]
    }
   ],
   "source": [
    "print(review_data['reviewText'][0])"
   ]
  },
  {
   "cell_type": "code",
   "execution_count": 49,
   "id": "095da142",
   "metadata": {},
   "outputs": [],
   "source": [
    "def clean_text(text ): \n",
    "    delete_dict = {sp_character: '' for sp_character in string.punctuation} \n",
    "    delete_dict[' '] = ' ' \n",
    "    table = str.maketrans(delete_dict)\n",
    "    text1 = text.translate(table)\n",
    "    #print('cleaned:'+text1)\n",
    "    textArr= text1.split()\n",
    "    text2 = ' '.join([w for w in textArr if ( not w.isdigit() and  ( not w.isdigit() and len(w)>2))]) \n",
    "    \n",
    "    return text2.lower()"
   ]
  },
  {
   "cell_type": "code",
   "execution_count": 50,
   "id": "f76d9374",
   "metadata": {},
   "outputs": [
    {
     "name": "stdout",
     "output_type": "stream",
     "text": [
      "looks even better person careful not drop your phone often because the rhinestones will fall off duh more decorative case than protective but will say that fits perfectly and securely phone overall very pleased with this purchase\n"
     ]
    }
   ],
   "source": [
    "print(clean_text(review_data['reviewText'][0]))"
   ]
  },
  {
   "cell_type": "code",
   "execution_count": 51,
   "id": "fdaf5143",
   "metadata": {},
   "outputs": [
    {
     "data": {
      "text/plain": [
       "Index(['Unnamed: 0', 'rating', 'verified', 'reviewTime', 'reviewerID',\n",
       "       'productID', 'reviewText', 'summary', 'unixReviewTime'],\n",
       "      dtype='object')"
      ]
     },
     "execution_count": 51,
     "metadata": {},
     "output_type": "execute_result"
    }
   ],
   "source": [
    "review_data.columns"
   ]
  },
  {
   "cell_type": "code",
   "execution_count": 52,
   "id": "edf8701f",
   "metadata": {},
   "outputs": [],
   "source": [
    "data = review_data[['reviewText','summary','rating']]"
   ]
  },
  {
   "cell_type": "code",
   "execution_count": 53,
   "id": "2e5dccc2",
   "metadata": {},
   "outputs": [],
   "source": [
    "review_data['Num_words_text'] = review_data['reviewText'].apply(lambda x:len(str(x).split())) "
   ]
  },
  {
   "cell_type": "code",
   "execution_count": 54,
   "id": "61448906",
   "metadata": {},
   "outputs": [],
   "source": [
    "max_review_data_sentence_length  = review_data['Num_words_text'].max()"
   ]
  },
  {
   "cell_type": "code",
   "execution_count": 55,
   "id": "b8fb8b1e",
   "metadata": {},
   "outputs": [],
   "source": [
    "data = data.dropna()"
   ]
  },
  {
   "cell_type": "code",
   "execution_count": 56,
   "id": "aca266f4",
   "metadata": {},
   "outputs": [
    {
     "data": {
      "text/html": [
       "<div>\n",
       "<style scoped>\n",
       "    .dataframe tbody tr th:only-of-type {\n",
       "        vertical-align: middle;\n",
       "    }\n",
       "\n",
       "    .dataframe tbody tr th {\n",
       "        vertical-align: top;\n",
       "    }\n",
       "\n",
       "    .dataframe thead th {\n",
       "        text-align: right;\n",
       "    }\n",
       "</style>\n",
       "<table border=\"1\" class=\"dataframe\">\n",
       "  <thead>\n",
       "    <tr style=\"text-align: right;\">\n",
       "      <th></th>\n",
       "      <th>reviewText</th>\n",
       "      <th>summary</th>\n",
       "      <th>rating</th>\n",
       "    </tr>\n",
       "  </thead>\n",
       "  <tbody>\n",
       "    <tr>\n",
       "      <th>0</th>\n",
       "      <td>Looks even better in person. Be careful to not...</td>\n",
       "      <td>Can't stop won't stop looking at it</td>\n",
       "      <td>5.0</td>\n",
       "    </tr>\n",
       "    <tr>\n",
       "      <th>1</th>\n",
       "      <td>When you don't want to spend a whole lot of ca...</td>\n",
       "      <td>1</td>\n",
       "      <td>5.0</td>\n",
       "    </tr>\n",
       "    <tr>\n",
       "      <th>2</th>\n",
       "      <td>so the case came on time, i love the design. I...</td>\n",
       "      <td>Its okay</td>\n",
       "      <td>3.0</td>\n",
       "    </tr>\n",
       "    <tr>\n",
       "      <th>3</th>\n",
       "      <td>DON'T CARE FOR IT.  GAVE IT AS A GIFT AND THEY...</td>\n",
       "      <td>CASE</td>\n",
       "      <td>2.0</td>\n",
       "    </tr>\n",
       "    <tr>\n",
       "      <th>4</th>\n",
       "      <td>I liked it because it was cute, but the studs ...</td>\n",
       "      <td>Cute!</td>\n",
       "      <td>4.0</td>\n",
       "    </tr>\n",
       "    <tr>\n",
       "      <th>5</th>\n",
       "      <td>The product looked exactly like the picture an...</td>\n",
       "      <td>Not so happy</td>\n",
       "      <td>2.0</td>\n",
       "    </tr>\n",
       "    <tr>\n",
       "      <th>6</th>\n",
       "      <td>I FINALLY got my case today. It took forever t...</td>\n",
       "      <td>It's cute!</td>\n",
       "      <td>3.0</td>\n",
       "    </tr>\n",
       "    <tr>\n",
       "      <th>7</th>\n",
       "      <td>It is a very cute case. None of the jewels hav...</td>\n",
       "      <td>Cute case</td>\n",
       "      <td>5.0</td>\n",
       "    </tr>\n",
       "    <tr>\n",
       "      <th>8</th>\n",
       "      <td>DO NOT BUY! this item is seriously cheap as he...</td>\n",
       "      <td>WORST ITEM!</td>\n",
       "      <td>1.0</td>\n",
       "    </tr>\n",
       "    <tr>\n",
       "      <th>9</th>\n",
       "      <td>I really love this case... you have to keep yo...</td>\n",
       "      <td>Pretty Cute!</td>\n",
       "      <td>4.0</td>\n",
       "    </tr>\n",
       "  </tbody>\n",
       "</table>\n",
       "</div>"
      ],
      "text/plain": [
       "                                          reviewText  \\\n",
       "0  Looks even better in person. Be careful to not...   \n",
       "1  When you don't want to spend a whole lot of ca...   \n",
       "2  so the case came on time, i love the design. I...   \n",
       "3  DON'T CARE FOR IT.  GAVE IT AS A GIFT AND THEY...   \n",
       "4  I liked it because it was cute, but the studs ...   \n",
       "5  The product looked exactly like the picture an...   \n",
       "6  I FINALLY got my case today. It took forever t...   \n",
       "7  It is a very cute case. None of the jewels hav...   \n",
       "8  DO NOT BUY! this item is seriously cheap as he...   \n",
       "9  I really love this case... you have to keep yo...   \n",
       "\n",
       "                               summary  rating  \n",
       "0  Can't stop won't stop looking at it     5.0  \n",
       "1                                    1     5.0  \n",
       "2                             Its okay     3.0  \n",
       "3                                 CASE     2.0  \n",
       "4                                Cute!     4.0  \n",
       "5                         Not so happy     2.0  \n",
       "6                           It's cute!     3.0  \n",
       "7                            Cute case     5.0  \n",
       "8                          WORST ITEM!     1.0  \n",
       "9                         Pretty Cute!     4.0  "
      ]
     },
     "execution_count": 56,
     "metadata": {},
     "output_type": "execute_result"
    }
   ],
   "source": [
    "data.head(10)"
   ]
  },
  {
   "cell_type": "code",
   "execution_count": 57,
   "id": "fb7dba80",
   "metadata": {},
   "outputs": [
    {
     "data": {
      "text/plain": [
       "(938254, 3)"
      ]
     },
     "execution_count": 57,
     "metadata": {},
     "output_type": "execute_result"
    }
   ],
   "source": [
    "data.shape"
   ]
  },
  {
   "cell_type": "code",
   "execution_count": 58,
   "id": "32f73574",
   "metadata": {},
   "outputs": [
    {
     "data": {
      "text/plain": [
       "reviewText     object\n",
       "summary        object\n",
       "rating        float64\n",
       "dtype: object"
      ]
     },
     "execution_count": 58,
     "metadata": {},
     "output_type": "execute_result"
    }
   ],
   "source": [
    "data.dtypes"
   ]
  },
  {
   "cell_type": "code",
   "execution_count": 59,
   "id": "b3513485",
   "metadata": {},
   "outputs": [
    {
     "data": {
      "text/plain": [
       "5.0    555516\n",
       "4.0    161434\n",
       "3.0     90015\n",
       "1.0     76692\n",
       "2.0     54597\n",
       "Name: rating, dtype: int64"
      ]
     },
     "execution_count": 59,
     "metadata": {},
     "output_type": "execute_result"
    }
   ],
   "source": [
    "data.rating.value_counts()"
   ]
  },
  {
   "cell_type": "code",
   "execution_count": 60,
   "id": "e09a5a2a",
   "metadata": {},
   "outputs": [
    {
     "name": "stderr",
     "output_type": "stream",
     "text": [
      "C:\\Users\\SHRAVAN\\AppData\\Local\\Temp\\ipykernel_12776\\974170067.py:2: UserWarning: Boolean Series key will be reindexed to match DataFrame index.\n",
      "  fin_review_data = data[mask]\n"
     ]
    }
   ],
   "source": [
    "mask = (review_data['Num_words_text'] < 300) & (review_data['Num_words_text'] >=20)\n",
    "fin_review_data = data[mask]"
   ]
  },
  {
   "cell_type": "code",
   "execution_count": 61,
   "id": "865f8c1c",
   "metadata": {},
   "outputs": [
    {
     "data": {
      "text/html": [
       "<div>\n",
       "<style scoped>\n",
       "    .dataframe tbody tr th:only-of-type {\n",
       "        vertical-align: middle;\n",
       "    }\n",
       "\n",
       "    .dataframe tbody tr th {\n",
       "        vertical-align: top;\n",
       "    }\n",
       "\n",
       "    .dataframe thead th {\n",
       "        text-align: right;\n",
       "    }\n",
       "</style>\n",
       "<table border=\"1\" class=\"dataframe\">\n",
       "  <thead>\n",
       "    <tr style=\"text-align: right;\">\n",
       "      <th></th>\n",
       "      <th>reviewText</th>\n",
       "      <th>summary</th>\n",
       "      <th>rating</th>\n",
       "    </tr>\n",
       "  </thead>\n",
       "  <tbody>\n",
       "    <tr>\n",
       "      <th>0</th>\n",
       "      <td>Looks even better in person. Be careful to not...</td>\n",
       "      <td>Can't stop won't stop looking at it</td>\n",
       "      <td>5.0</td>\n",
       "    </tr>\n",
       "    <tr>\n",
       "      <th>1</th>\n",
       "      <td>When you don't want to spend a whole lot of ca...</td>\n",
       "      <td>1</td>\n",
       "      <td>5.0</td>\n",
       "    </tr>\n",
       "    <tr>\n",
       "      <th>2</th>\n",
       "      <td>so the case came on time, i love the design. I...</td>\n",
       "      <td>Its okay</td>\n",
       "      <td>3.0</td>\n",
       "    </tr>\n",
       "    <tr>\n",
       "      <th>3</th>\n",
       "      <td>DON'T CARE FOR IT.  GAVE IT AS A GIFT AND THEY...</td>\n",
       "      <td>CASE</td>\n",
       "      <td>2.0</td>\n",
       "    </tr>\n",
       "    <tr>\n",
       "      <th>4</th>\n",
       "      <td>I liked it because it was cute, but the studs ...</td>\n",
       "      <td>Cute!</td>\n",
       "      <td>4.0</td>\n",
       "    </tr>\n",
       "  </tbody>\n",
       "</table>\n",
       "</div>"
      ],
      "text/plain": [
       "                                          reviewText  \\\n",
       "0  Looks even better in person. Be careful to not...   \n",
       "1  When you don't want to spend a whole lot of ca...   \n",
       "2  so the case came on time, i love the design. I...   \n",
       "3  DON'T CARE FOR IT.  GAVE IT AS A GIFT AND THEY...   \n",
       "4  I liked it because it was cute, but the studs ...   \n",
       "\n",
       "                               summary  rating  \n",
       "0  Can't stop won't stop looking at it     5.0  \n",
       "1                                    1     5.0  \n",
       "2                             Its okay     3.0  \n",
       "3                                 CASE     2.0  \n",
       "4                                Cute!     4.0  "
      ]
     },
     "execution_count": 61,
     "metadata": {},
     "output_type": "execute_result"
    }
   ],
   "source": [
    "fin_review_data.head()"
   ]
  },
  {
   "cell_type": "code",
   "execution_count": 62,
   "id": "de715b67",
   "metadata": {},
   "outputs": [
    {
     "name": "stdout",
     "output_type": "stream",
     "text": [
      "584761\n"
     ]
    }
   ],
   "source": [
    "print(len(fin_review_data))"
   ]
  },
  {
   "cell_type": "code",
   "execution_count": 63,
   "id": "15ec6e04",
   "metadata": {},
   "outputs": [
    {
     "name": "stderr",
     "output_type": "stream",
     "text": [
      "C:\\Users\\SHRAVAN\\AppData\\Local\\Temp\\ipykernel_12776\\2436004730.py:1: SettingWithCopyWarning: \n",
      "A value is trying to be set on a copy of a slice from a DataFrame\n",
      "\n",
      "See the caveats in the documentation: https://pandas.pydata.org/pandas-docs/stable/user_guide/indexing.html#returning-a-view-versus-a-copy\n",
      "  fin_review_data.rating.loc[(fin_review_data['rating'] ==1.0) | (fin_review_data['rating']==2.0)] = \"negative\"\n",
      "C:\\Users\\SHRAVAN\\AppData\\Local\\Temp\\ipykernel_12776\\2436004730.py:2: SettingWithCopyWarning: \n",
      "A value is trying to be set on a copy of a slice from a DataFrame\n",
      "\n",
      "See the caveats in the documentation: https://pandas.pydata.org/pandas-docs/stable/user_guide/indexing.html#returning-a-view-versus-a-copy\n",
      "  fin_review_data.rating.loc[(fin_review_data['rating'] == 3.0)] =\"neutral\"\n",
      "C:\\Users\\SHRAVAN\\AppData\\Local\\Temp\\ipykernel_12776\\2436004730.py:3: SettingWithCopyWarning: \n",
      "A value is trying to be set on a copy of a slice from a DataFrame\n",
      "\n",
      "See the caveats in the documentation: https://pandas.pydata.org/pandas-docs/stable/user_guide/indexing.html#returning-a-view-versus-a-copy\n",
      "  fin_review_data.rating.loc[(fin_review_data['rating'] ==4.0) | (fin_review_data['rating']==5.0)] = \"positive\"\n"
     ]
    }
   ],
   "source": [
    "fin_review_data.rating.loc[(fin_review_data['rating'] ==1.0) | (fin_review_data['rating']==2.0)] = \"negative\"\n",
    "fin_review_data.rating.loc[(fin_review_data['rating'] == 3.0)] =\"neutral\"\n",
    "fin_review_data.rating.loc[(fin_review_data['rating'] ==4.0) | (fin_review_data['rating']==5.0)] = \"positive\""
   ]
  },
  {
   "cell_type": "code",
   "execution_count": 64,
   "id": "97fd6157",
   "metadata": {},
   "outputs": [
    {
     "data": {
      "text/plain": [
       "positive    437757\n",
       "negative     86054\n",
       "neutral      60950\n",
       "Name: rating, dtype: int64"
      ]
     },
     "execution_count": 64,
     "metadata": {},
     "output_type": "execute_result"
    }
   ],
   "source": [
    "fin_review_data.rating.value_counts()"
   ]
  },
  {
   "cell_type": "code",
   "execution_count": 65,
   "id": "11dfa0f2",
   "metadata": {},
   "outputs": [
    {
     "data": {
      "text/plain": [
       "\"When you don't want to spend a whole lot of cash but want a great deal...this is the shop to buy from!\""
      ]
     },
     "execution_count": 65,
     "metadata": {},
     "output_type": "execute_result"
    }
   ],
   "source": [
    "fin_review_data['reviewText'][1]"
   ]
  },
  {
   "cell_type": "code",
   "execution_count": 66,
   "id": "96adae0a",
   "metadata": {},
   "outputs": [],
   "source": [
    "def clean_text(text ): \n",
    "    delete_dict = {sp_character: '' for sp_character in string.punctuation} \n",
    "    delete_dict[' '] = ' ' \n",
    "    table = str.maketrans(delete_dict)\n",
    "    text1 = text.translate(table)\n",
    "    #print('cleaned:'+text1)\n",
    "    textArr= text1.split()\n",
    "    text2 = ' '.join([w for w in textArr if ( not w.isdigit() and  ( not w.isdigit() and len(w)>2))]) \n",
    "    \n",
    "    return text2.lower()"
   ]
  },
  {
   "cell_type": "code",
   "execution_count": 67,
   "id": "7a7334d5",
   "metadata": {},
   "outputs": [
    {
     "name": "stderr",
     "output_type": "stream",
     "text": [
      "C:\\Users\\SHRAVAN\\AppData\\Local\\Temp\\ipykernel_12776\\4116999170.py:1: SettingWithCopyWarning: \n",
      "A value is trying to be set on a copy of a slice from a DataFrame.\n",
      "Try using .loc[row_indexer,col_indexer] = value instead\n",
      "\n",
      "See the caveats in the documentation: https://pandas.pydata.org/pandas-docs/stable/user_guide/indexing.html#returning-a-view-versus-a-copy\n",
      "  fin_review_data['reviewText'] = fin_review_data['reviewText'].apply(clean_text)\n"
     ]
    }
   ],
   "source": [
    "fin_review_data['reviewText'] = fin_review_data['reviewText'].apply(clean_text)"
   ]
  },
  {
   "cell_type": "code",
   "execution_count": 68,
   "id": "fe5307b3",
   "metadata": {},
   "outputs": [
    {
     "data": {
      "text/plain": [
       "'when you dont want spend whole lot cash but want great dealthis the shop buy from'"
      ]
     },
     "execution_count": 68,
     "metadata": {},
     "output_type": "execute_result"
    }
   ],
   "source": [
    "fin_review_data['reviewText'][1]"
   ]
  },
  {
   "cell_type": "code",
   "execution_count": 76,
   "id": "3163beb5",
   "metadata": {},
   "outputs": [
    {
     "name": "stdout",
     "output_type": "stream",
     "text": [
      "Found 173626 unique tokens.\n"
     ]
    }
   ],
   "source": [
    "\n",
    "# The maximum number of words to be used. (most frequent)\n",
    "MAX_NB_WORDS = 50000\n",
    "# Max number of words in each complaint.\n",
    "MAX_SEQUENCE_LENGTH = 250\n",
    "# This is fixed.\n",
    "EMBEDDING_DIM = 100\n",
    "\n",
    "tokenizer = Tokenizer(num_words=MAX_NB_WORDS, filters='!\"#$%&()*+,-./:;<=>?@[\\]^_`{|}~', lower=True)\n",
    "tokenizer.fit_on_texts(fin_review_data['reviewText'].values)\n",
    "\n",
    "word_index = tokenizer.word_index\n",
    "print('Found %s unique tokens.' % len(word_index))"
   ]
  },
  {
   "cell_type": "code",
   "execution_count": 77,
   "id": "ee44cda7",
   "metadata": {},
   "outputs": [
    {
     "name": "stdout",
     "output_type": "stream",
     "text": [
      "Shape of data tensor: (584761, 250)\n"
     ]
    }
   ],
   "source": [
    "X = tokenizer.texts_to_sequences(fin_review_data['reviewText'].values)\n",
    "X = pad_sequences(X, maxlen=MAX_SEQUENCE_LENGTH)\n",
    "print('Shape of data tensor:', X.shape)"
   ]
  },
  {
   "cell_type": "code",
   "execution_count": 78,
   "id": "d6a72d0a",
   "metadata": {},
   "outputs": [],
   "source": [
    "import json\n",
    "json_string = tokenizer.to_json()\n",
    "with open('C:\\\\AmazonReviewsCellPhones\\\\tokenizer.json', 'w') as outfile:\n",
    "    json.dump(json_string, outfile)"
   ]
  },
  {
   "cell_type": "code",
   "execution_count": 71,
   "id": "d65722b1",
   "metadata": {},
   "outputs": [
    {
     "name": "stdout",
     "output_type": "stream",
     "text": [
      "Shape of label tensor: (584761, 3)\n"
     ]
    }
   ],
   "source": [
    "Y = pd.get_dummies(fin_review_data['rating']).values\n",
    "print('Shape of label tensor:', Y.shape)"
   ]
  },
  {
   "cell_type": "code",
   "execution_count": 94,
   "id": "31a69f39",
   "metadata": {},
   "outputs": [
    {
     "name": "stdout",
     "output_type": "stream",
     "text": [
      "(526284, 250) (526284, 3)\n",
      "(58477, 250) (58477, 3)\n"
     ]
    }
   ],
   "source": [
    "X_train, X_test, Y_train, Y_test = train_test_split(X,Y, test_size = 0.10, random_state = 42)\n",
    "print(X_train.shape,Y_train.shape)\n",
    "print(X_test.shape,Y_test.shape)"
   ]
  },
  {
   "cell_type": "code",
   "execution_count": 95,
   "id": "e86ea479",
   "metadata": {},
   "outputs": [
    {
     "name": "stdout",
     "output_type": "stream",
     "text": [
      "Model: \"sequential_2\"\n",
      "_________________________________________________________________\n",
      " Layer (type)                Output Shape              Param #   \n",
      "=================================================================\n",
      " embedding_2 (Embedding)     (None, 250, 100)          5000000   \n",
      "                                                                 \n",
      " spatial_dropout1d_2 (Spatia  (None, 250, 100)         0         \n",
      " lDropout1D)                                                     \n",
      "                                                                 \n",
      " lstm_2 (LSTM)               (None, 100)               80400     \n",
      "                                                                 \n",
      " dense_2 (Dense)             (None, 3)                 303       \n",
      "                                                                 \n",
      "=================================================================\n",
      "Total params: 5,080,703\n",
      "Trainable params: 5,080,703\n",
      "Non-trainable params: 0\n",
      "_________________________________________________________________\n",
      "None\n"
     ]
    }
   ],
   "source": [
    "model = Sequential()\n",
    "model.add(Embedding(MAX_NB_WORDS, EMBEDDING_DIM, input_length=X.shape[1]))\n",
    "model.add(SpatialDropout1D(0.2))\n",
    "model.add(LSTM(100, dropout=0.2, recurrent_dropout=0.2))\n",
    "model.add(Dense(3, activation='softmax'))\n",
    "model.compile(loss='categorical_crossentropy', optimizer='adam', metrics=['accuracy'])\n",
    "print(model.summary())"
   ]
  },
  {
   "cell_type": "code",
   "execution_count": 96,
   "id": "723dc08f",
   "metadata": {},
   "outputs": [
    {
     "name": "stdout",
     "output_type": "stream",
     "text": [
      "Epoch 1/5\n",
      "7401/7401 [==============================] - 12307s 2s/step - loss: 0.4149 - accuracy: 0.8382 - val_loss: 0.3659 - val_accuracy: 0.8545\n",
      "Epoch 2/5\n",
      "7401/7401 [==============================] - 12213s 2s/step - loss: 0.3448 - accuracy: 0.8627 - val_loss: 0.3477 - val_accuracy: 0.8621\n",
      "Epoch 3/5\n",
      "7401/7401 [==============================] - 13097s 2s/step - loss: 0.3170 - accuracy: 0.8732 - val_loss: 0.3430 - val_accuracy: 0.8633\n",
      "Epoch 4/5\n",
      "7401/7401 [==============================] - 12615s 2s/step - loss: 0.2947 - accuracy: 0.8828 - val_loss: 0.3469 - val_accuracy: 0.8639\n",
      "Epoch 5/5\n",
      "7401/7401 [==============================] - 13180s 2s/step - loss: 0.2745 - accuracy: 0.8911 - val_loss: 0.3590 - val_accuracy: 0.8634\n"
     ]
    }
   ],
   "source": [
    "epochs = 5\n",
    "batch_size = 64\n",
    "\n",
    "history = model.fit(X_train, Y_train, epochs=epochs, batch_size=batch_size,validation_split=0.1,callbacks=[EarlyStopping(monitor='val_loss', patience=3, min_delta=0.0001)])\n"
   ]
  },
  {
   "cell_type": "code",
   "execution_count": 97,
   "id": "aeb8bc1c",
   "metadata": {},
   "outputs": [],
   "source": [
    "model.save('C:\\\\AmazonReviewsCellPhones\\\\multiClass_lstmmodel.h5') "
   ]
  },
  {
   "cell_type": "code",
   "execution_count": 2,
   "id": "7b398213",
   "metadata": {},
   "outputs": [],
   "source": [
    "from tensorflow import keras\n",
    "new_model = keras.models.load_model('C:\\\\AmazonReviewsCellPhones\\\\multiClass_lstmmodel.h5')\n",
    "import json\n",
    "with open('C:\\\\AmazonReviewsCellPhones\\\\tokenizer.json') as json_file:\n",
    "    json_string2 = json.load(json_file)\n",
    "tokenizer_new = tf.keras.preprocessing.text.tokenizer_from_json(json_string2)"
   ]
  },
  {
   "cell_type": "code",
   "execution_count": 103,
   "id": "244d426d",
   "metadata": {},
   "outputs": [
    {
     "name": "stdout",
     "output_type": "stream",
     "text": [
      "1828/1828 [==============================] - 199s 108ms/step - loss: 0.3653 - accuracy: 0.8600\n"
     ]
    }
   ],
   "source": [
    "accr = new_model.evaluate(X_test,Y_test)"
   ]
  },
  {
   "cell_type": "code",
   "execution_count": 4,
   "id": "be085803",
   "metadata": {},
   "outputs": [
    {
     "name": "stdout",
     "output_type": "stream",
     "text": [
      "1/1 [==============================] - 6s 6s/step\n",
      "[[0.00536248 0.12715273 0.86748487]] positive\n"
     ]
    }
   ],
   "source": [
    "new_review = ['value for money and dont expect many features in this price range but this was good in that price starting android']\n",
    "MAX_SEQUENCE_LENGTH = 250\n",
    "seq = tokenizer_new.texts_to_sequences(new_review)\n",
    "padded = pad_sequences(seq, maxlen=MAX_SEQUENCE_LENGTH)\n",
    "pred = new_model.predict(padded)\n",
    "labels = ['negative','neutral','positive']\n",
    "print(pred, labels[np.argmax(pred)])"
   ]
  },
  {
   "cell_type": "code",
   "execution_count": 5,
   "id": "781090a2",
   "metadata": {},
   "outputs": [
    {
     "name": "stdout",
     "output_type": "stream",
     "text": [
      "1/1 [==============================] - 0s 69ms/step\n",
      "[[0.99403435 0.00464119 0.00132445]] negative\n"
     ]
    }
   ],
   "source": [
    "new_review = ['worst product dont buy it']\n",
    "\n",
    "seq = tokenizer_new.texts_to_sequences(new_review)\n",
    "padded = pad_sequences(seq, maxlen=MAX_SEQUENCE_LENGTH)\n",
    "pred = new_model.predict(padded)\n",
    "labels = ['negative','neutral','positive']\n",
    "print(pred, labels[np.argmax(pred)])"
   ]
  },
  {
   "cell_type": "code",
   "execution_count": 6,
   "id": "77273617",
   "metadata": {},
   "outputs": [
    {
     "name": "stdout",
     "output_type": "stream",
     "text": [
      "1/1 [==============================] - 0s 63ms/step\n",
      "[[0.05643891 0.64390045 0.29966065]] neutral\n"
     ]
    }
   ],
   "source": [
    "new_review = ['not bad not great product but okay']\n",
    "seq = tokenizer_new.texts_to_sequences(new_review)\n",
    "padded = pad_sequences(seq, maxlen=MAX_SEQUENCE_LENGTH)\n",
    "pred = new_model.predict(padded)\n",
    "labels = ['negative','neutral','positive']\n",
    "print(pred, labels[np.argmax(pred)])"
   ]
  },
  {
   "cell_type": "code",
   "execution_count": 12,
   "id": "64b67339",
   "metadata": {},
   "outputs": [
    {
     "name": "stdout",
     "output_type": "stream",
     "text": [
      "1/1 [==============================] - 0s 93ms/step\n",
      "[[0.45319733 0.35834727 0.1884554 ]] negative\n"
     ]
    }
   ],
   "source": [
    "new_review = ['overall its fine but the charger is not working properly very very bad and poor color combination  great product nice quality']\n",
    "seq = tokenizer_new.texts_to_sequences(new_review)\n",
    "padded = pad_sequences(seq, maxlen=MAX_SEQUENCE_LENGTH)\n",
    "pred = new_model.predict(padded)\n",
    "labels = ['negative','neutral','positive']\n",
    "print(pred, labels[np.argmax(pred)])"
   ]
  },
  {
   "cell_type": "code",
   "execution_count": null,
   "id": "e17d956f",
   "metadata": {},
   "outputs": [],
   "source": []
  }
 ],
 "metadata": {
  "kernelspec": {
   "display_name": "Python 3 (ipykernel)",
   "language": "python",
   "name": "python3"
  },
  "language_info": {
   "codemirror_mode": {
    "name": "ipython",
    "version": 3
   },
   "file_extension": ".py",
   "mimetype": "text/x-python",
   "name": "python",
   "nbconvert_exporter": "python",
   "pygments_lexer": "ipython3",
   "version": "3.9.13"
  }
 },
 "nbformat": 4,
 "nbformat_minor": 5
}
